{
 "cells": [
  {
   "cell_type": "code",
   "execution_count": 2,
   "id": "8df784a1",
   "metadata": {},
   "outputs": [
    {
     "name": "stdout",
     "output_type": "stream",
     "text": [
      "total 4876\n",
      "-rw-rw-r-- 1 talita talita  191200 jun  2 15:42 BERT.ipynb\n",
      "-rw-rw-r-- 1 talita talita 2875672 mai 30 11:06 dump.csv\n",
      "drwxrwxr-x 7 talita talita    4096 jun  2 11:21 env\n",
      "-rw-rw-r-- 1 talita talita   58978 jun  2 16:13 Modelo_tweets.ipynb\n",
      "-rw-rw-r-- 1 talita talita      72 jun  2 16:20 Namor.ipynb\n",
      "-rw-rw-r-- 1 talita talita     383 jun  2 16:11 tweets_classificados_por_forest.csv\n",
      "-rw-rw-r-- 1 talita talita 1845398 set 26  2019 Tweets_Mg.csv\n",
      "\n"
     ]
    }
   ],
   "source": [
    "# This Python 3 environment comes with many helpful analytics libraries installed\n",
    "# It is defined by the kaggle/python docker image: https://github.com/kaggle/docker-python\n",
    "\n",
    "import nltk\n",
    "import re\n",
    "import pandas as pd\n",
    "from sklearn.feature_extraction.text import CountVectorizer\n",
    "from sklearn.naive_bayes import MultinomialNB\n",
    "from sklearn import metrics\n",
    "from sklearn.model_selection import cross_val_predict\n",
    "\n",
    "# Input data files are available in the \"../input/\" directory.\n",
    "# For example, running this (by clicking run or pressing Shift+Enter) will list the files in the input directory\n",
    "\n",
    "from subprocess import check_output\n",
    "print(check_output([\"ls\", \"-l\"]).decode(\"utf8\"))\n",
    "\n",
    "# Any results you write to the current directory are saved as output."
   ]
  },
  {
   "cell_type": "code",
   "execution_count": 12,
   "id": "ffb56f7b",
   "metadata": {},
   "outputs": [
    {
     "data": {
      "text/plain": [
       "id         13350\n",
       "comment    13350\n",
       "rating     13339\n",
       "dtype: int64"
      ]
     },
     "execution_count": 12,
     "metadata": {},
     "output_type": "execute_result"
    }
   ],
   "source": [
    "# Primeiro, vamos contar a quantidade total de registros\n",
    "dataset = pd.read_csv('dump.csv', usecols=[0, 1, 2], encoding='utf-8')\n",
    "dataset.count()"
   ]
  },
  {
   "cell_type": "code",
   "execution_count": 13,
   "id": "fbed72fe",
   "metadata": {},
   "outputs": [
    {
     "data": {
      "text/plain": [
       "id         0\n",
       "comment    0\n",
       "rating     0\n",
       "dtype: int64"
      ]
     },
     "execution_count": 13,
     "metadata": {},
     "output_type": "execute_result"
    }
   ],
   "source": [
    "# Agora, apenas os classificados como neutro\n",
    "dataset[dataset.rating == 'Neutro'].count()"
   ]
  },
  {
   "cell_type": "code",
   "execution_count": 14,
   "id": "4a650332",
   "metadata": {},
   "outputs": [
    {
     "data": {
      "text/plain": [
       "id         0\n",
       "comment    0\n",
       "rating     0\n",
       "dtype: int64"
      ]
     },
     "execution_count": 14,
     "metadata": {},
     "output_type": "execute_result"
    }
   ],
   "source": [
    "# Os classificados como positivo\n",
    "dataset[dataset.rating == 'Positivo'].count()"
   ]
  },
  {
   "cell_type": "code",
   "execution_count": 15,
   "id": "6d8324da",
   "metadata": {},
   "outputs": [
    {
     "data": {
      "text/plain": [
       "id         0\n",
       "comment    0\n",
       "rating     0\n",
       "dtype: int64"
      ]
     },
     "execution_count": 15,
     "metadata": {},
     "output_type": "execute_result"
    }
   ],
   "source": [
    "# E finalmente, os classificados como negativo\n",
    "dataset[dataset.rating == 'Negativo'].count()"
   ]
  },
  {
   "cell_type": "code",
   "execution_count": null,
   "id": "5aaf11a5",
   "metadata": {},
   "outputs": [],
   "source": []
  }
 ],
 "metadata": {
  "kernelspec": {
   "display_name": "Python 3 (ipykernel)",
   "language": "python",
   "name": "python3"
  },
  "language_info": {
   "codemirror_mode": {
    "name": "ipython",
    "version": 3
   },
   "file_extension": ".py",
   "mimetype": "text/x-python",
   "name": "python",
   "nbconvert_exporter": "python",
   "pygments_lexer": "ipython3",
   "version": "3.10.6"
  }
 },
 "nbformat": 4,
 "nbformat_minor": 5
}
