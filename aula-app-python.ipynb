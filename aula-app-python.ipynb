{
 "cells": [
  {
   "cell_type": "code",
   "execution_count": 1,
   "id": "931be088",
   "metadata": {},
   "outputs": [],
   "source": [
    "import sqlite3\n",
    "from tkinter import *\n",
    "\n",
    "# Conectar ao banco de dados SQLite (ou criá-lo se não existir)\n",
    "conn = sqlite3.connect('produtos.db')\n",
    "\n",
    "# Criar um cursor para executar comandos SQL\n",
    "cursor = conn.cursor()\n",
    "\n",
    "# Criar a tabela de produtos, caso ainda não exista\n",
    "cursor.execute(\"\"\"\n",
    "CREATE TABLE IF NOT EXISTS produtos (\n",
    "    id INTEGER PRIMARY KEY AUTOINCREMENT,\n",
    "    nome TEXT NOT NULL,\n",
    "    preco REAL NOT NULL\n",
    ")\n",
    "\"\"\")\n",
    "\n",
    "# Função para salvar um novo produto\n",
    "def salvar_produto():\n",
    "    nome = nome_entry.get()\n",
    "    preco = float(preco_entry.get())\n",
    "    \n",
    "    cursor.execute(\"\"\"\n",
    "    INSERT INTO produtos (nome, preco) VALUES (?, ?)\n",
    "    \"\"\", (nome, preco))\n",
    "    \n",
    "    conn.commit()\n",
    "    nome_entry.delete(0, END)\n",
    "    preco_entry.delete(0, END)\n",
    "\n",
    "# Criar a interface gráfica\n",
    "window = Tk()\n",
    "window.title(\"Cadastro de Produtos\")\n",
    "\n",
    "# Campo para inserir o nome do produto\n",
    "Label(window, text=\"Nome:\").pack()\n",
    "nome_entry = Entry(window)\n",
    "nome_entry.pack()\n",
    "\n",
    "# Campo para inserir o preço do produto\n",
    "Label(window, text=\"Preço:\").pack()\n",
    "preco_entry = Entry(window)\n",
    "preco_entry.pack()\n",
    "\n",
    "# Botão para salvar o produto\n",
    "Button(window, text=\"Salvar\", command=salvar_produto).pack()\n",
    "\n",
    "window.mainloop()\n",
    "\n",
    "# Fechar a conexão com o banco de dados ao fechar a aplicação\n",
    "conn.close()\n"
   ]
  },
  {
   "cell_type": "code",
   "execution_count": null,
   "id": "9ac46880",
   "metadata": {},
   "outputs": [],
   "source": []
  }
 ],
 "metadata": {
  "kernelspec": {
   "display_name": "Python 3 (ipykernel)",
   "language": "python",
   "name": "python3"
  },
  "language_info": {
   "codemirror_mode": {
    "name": "ipython",
    "version": 3
   },
   "file_extension": ".py",
   "mimetype": "text/x-python",
   "name": "python",
   "nbconvert_exporter": "python",
   "pygments_lexer": "ipython3",
   "version": "3.10.6"
  }
 },
 "nbformat": 4,
 "nbformat_minor": 5
}
