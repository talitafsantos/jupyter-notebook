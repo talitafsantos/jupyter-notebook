{
 "cells": [
  {
   "cell_type": "code",
   "execution_count": 14,
   "id": "bd351904",
   "metadata": {},
   "outputs": [
    {
     "name": "stdout",
     "output_type": "stream",
     "text": [
      "Defaulting to user installation because normal site-packages is not writeable\n",
      "\u001b[31mERROR: Could not find a version that satisfies the requirement sqlite3 (from versions: none)\u001b[0m\u001b[31m\n",
      "\u001b[0m\u001b[31mERROR: No matching distribution found for sqlite3\u001b[0m\u001b[31m\n",
      "\u001b[0mDefaulting to user installation because normal site-packages is not writeable\n",
      "\u001b[31mERROR: Could not find a version that satisfies the requirement tkinter (from versions: none)\u001b[0m\u001b[31m\n",
      "\u001b[0m\u001b[31mERROR: No matching distribution found for tkinter\u001b[0m\u001b[31m\n",
      "\u001b[0mDefaulting to user installation because normal site-packages is not writeable\n",
      "Requirement already satisfied: tk in /home/talita/.local/lib/python3.10/site-packages (0.1.0)\n"
     ]
    }
   ],
   "source": [
    "!pip install sqlite3\n",
    "!pip install tkinter\n",
    "!pip install tk"
   ]
  },
  {
   "cell_type": "code",
   "execution_count": 16,
   "id": "931be088",
   "metadata": {},
   "outputs": [
    {
     "name": "stderr",
     "output_type": "stream",
     "text": [
      "Exception in Tkinter callback\n",
      "Traceback (most recent call last):\n",
      "  File \"/usr/lib/python3.10/tkinter/__init__.py\", line 1921, in __call__\n",
      "    return self.func(*args)\n",
      "  File \"/tmp/ipykernel_365200/2221203246.py\", line 22, in salvar_produto\n",
      "    preco = float(preco_entry.get())\n",
      "ValueError: could not convert string to float: 'R$ 5,00'\n"
     ]
    }
   ],
   "source": [
    "import sqlite3\n",
    "from tkinter import *\n",
    "\n",
    "# Conectar ao banco de dados SQLite (ou criá-lo se não existir)\n",
    "conn = sqlite3.connect('produtos.db')\n",
    "\n",
    "# Criar um cursor para executar comandos SQL\n",
    "cursor = conn.cursor()\n",
    "\n",
    "# Criar a tabela de produtos, caso ainda não exista\n",
    "cursor.execute(\"\"\"\n",
    "CREATE TABLE IF NOT EXISTS produtos (\n",
    "    id INTEGER PRIMARY KEY AUTOINCREMENT,\n",
    "    nome TEXT NOT NULL,\n",
    "    preco REAL NOT NULL\n",
    ")\n",
    "\"\"\")\n",
    "\n",
    "# Função para salvar um novo produto\n",
    "def salvar_produto():\n",
    "    nome = nome_entry.get()\n",
    "    preco = float(preco_entry.get())\n",
    "    \n",
    "    cursor.execute(\"\"\"\n",
    "    INSERT INTO produtos (nome, preco) VALUES (?, ?)\n",
    "    \"\"\", (nome, preco))\n",
    "    \n",
    "    conn.commit()\n",
    "    nome_entry.delete(0, END)\n",
    "    preco_entry.delete(0, END)\n",
    "\n",
    "# Criar a interface gráfica\n",
    "window = Tk()\n",
    "window.title(\"Cadastro de Produtos\")\n",
    "\n",
    "# Campo para inserir o nome do produto\n",
    "Label(window, text=\"Nome:\").pack()\n",
    "nome_entry = Entry(window)\n",
    "nome_entry.pack()\n",
    "\n",
    "# Campo para inserir o preço do produto\n",
    "Label(window, text=\"Preço:\").pack()\n",
    "preco_entry = Entry(window)\n",
    "preco_entry.pack()\n",
    "\n",
    "# Botão para salvar o produto\n",
    "Button(window, text=\"Salvar\", command=salvar_produto).pack()\n",
    "\n",
    "window.mainloop()\n",
    "\n",
    "# Fechar a conexão com o banco de dados ao fechar a aplicação\n",
    "conn.close()\n"
   ]
  },
  {
   "cell_type": "code",
   "execution_count": null,
   "id": "9ac46880",
   "metadata": {},
   "outputs": [],
   "source": []
  }
 ],
 "metadata": {
  "kernelspec": {
   "display_name": "Python 3 (ipykernel)",
   "language": "python",
   "name": "python3"
  },
  "language_info": {
   "codemirror_mode": {
    "name": "ipython",
    "version": 3
   },
   "file_extension": ".py",
   "mimetype": "text/x-python",
   "name": "python",
   "nbconvert_exporter": "python",
   "pygments_lexer": "ipython3",
   "version": "3.10.6"
  }
 },
 "nbformat": 4,
 "nbformat_minor": 5
}
